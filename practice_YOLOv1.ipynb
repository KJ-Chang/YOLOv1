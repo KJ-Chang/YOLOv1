{
 "cells": [
  {
   "cell_type": "code",
   "execution_count": 2,
   "id": "501d6ab6-19a0-4db8-bbd9-c5526d704b2c",
   "metadata": {},
   "outputs": [],
   "source": [
    "import torch\n",
    "import torch.nn as nn\n",
    "from torchvision import transforms, models, datasets"
   ]
  },
  {
   "cell_type": "code",
   "execution_count": 3,
   "id": "0ded71b5-a049-437d-b588-11bca73bf84a",
   "metadata": {},
   "outputs": [],
   "source": [
    "class YOLOv1BackBone(nn.Module):\n",
    "    def __init__(self, num_classes=100):\n",
    "        super(YOLOv1BackBone, self).__init__()\n",
    "        self.features = nn.Sequential(\n",
    "                            nn.Conv2d(in_channels=3, out_channels=64, kernel_size=(7, 7), stride=2, padding=3),\n",
    "                            nn.LeakyReLU(negative_slope=0.1),\n",
    "                            nn.MaxPool2d(kernel_size=(2, 2), stride=2),\n",
    "            \n",
    "                            nn.Conv2d(in_channels=64, out_channels=192, kernel_size=(3, 3), stride=1, padding=1),\n",
    "                            nn.LeakyReLU(negative_slope=0.1),\n",
    "                            nn.MaxPool2d(kernel_size=(2, 2), stride=2),\n",
    "\n",
    "                            nn.Conv2d(in_channels=192, out_channels=128, kernel_size=(1, 1)),\n",
    "                            nn.LeakyReLU(negative_slope=0.1),\n",
    "                            nn.Conv2d(in_channels=128, out_channels=256, kernel_size=(3, 3), padding=1),\n",
    "                            nn.LeakyReLU(negative_slope=0.1),\n",
    "                            nn.Conv2d(in_channels=256, out_channels=256, kernel_size=(1, 1)),\n",
    "                            nn.LeakyReLU(negative_slope=0.1),\n",
    "                            nn.Conv2d(in_channels=256, out_channels=512, kernel_size=(3, 3), padding=1),\n",
    "                            nn.LeakyReLU(negative_slope=0.1),\n",
    "                            nn.MaxPool2d(kernel_size=(2, 2), stride=2),\n",
    "\n",
    "                            nn.Conv2d(in_channels=512, out_channels=256, kernel_size=(1, 1)),\n",
    "                            nn.LeakyReLU(negative_slope=0.1),\n",
    "                            nn.Conv2d(in_channels=256, out_channels=512, kernel_size=(3, 3), padding=1),\n",
    "                            nn.LeakyReLU(negative_slope=0.1),\n",
    "                            nn.Conv2d(in_channels=512, out_channels=256, kernel_size=(1, 1)),\n",
    "                            nn.LeakyReLU(negative_slope=0.1),\n",
    "                            nn.Conv2d(in_channels=256, out_channels=512, kernel_size=(3, 3), padding=1),\n",
    "                            nn.LeakyReLU(negative_slope=0.1),\n",
    "                            nn.Conv2d(in_channels=512, out_channels=256, kernel_size=(1, 1)),\n",
    "                            nn.LeakyReLU(negative_slope=0.1),\n",
    "                            nn.Conv2d(in_channels=256, out_channels=512, kernel_size=(3, 3), padding=1),\n",
    "                            nn.LeakyReLU(negative_slope=0.1),\n",
    "                            nn.Conv2d(in_channels=512, out_channels=256, kernel_size=(1, 1)),\n",
    "                            nn.LeakyReLU(negative_slope=0.1),\n",
    "                            nn.Conv2d(in_channels=256, out_channels=512, kernel_size=(3, 3), padding=1),\n",
    "                            nn.LeakyReLU(negative_slope=0.1),\n",
    "                            nn.Conv2d(in_channels=512, out_channels=512, kernel_size=(1, 1)),\n",
    "                            nn.LeakyReLU(negative_slope=0.1),\n",
    "                            nn.Conv2d(in_channels=512, out_channels=1024, kernel_size=(3, 3), padding=1),\n",
    "                            nn.LeakyReLU(negative_slope=0.1),\n",
    "                            nn.MaxPool2d(kernel_size=(2, 2), stride=2),\n",
    "\n",
    "                            nn.Conv2d(in_channels=1024, out_channels=512, kernel_size=(1, 1)),\n",
    "                            nn.LeakyReLU(negative_slope=0.1),\n",
    "                            nn.Conv2d(in_channels=512, out_channels=1024, kernel_size=(3, 3), padding=1),\n",
    "                            nn.LeakyReLU(negative_slope=0.1),\n",
    "                            nn.Conv2d(in_channels=1024, out_channels=512, kernel_size=(1, 1)),\n",
    "                            nn.LeakyReLU(negative_slope=0.1),\n",
    "                            nn.Conv2d(in_channels=512, out_channels=1024, kernel_size=(3, 3), padding=1),\n",
    "                            nn.LeakyReLU(negative_slope=0.1),\n",
    "                            nn.Conv2d(in_channels=1024, out_channels=1024, kernel_size=(3, 3), padding=1),\n",
    "                            nn.LeakyReLU(negative_slope=0.1),\n",
    "                            nn.Conv2d(in_channels=1024, out_channels=1024, kernel_size=(3, 3), stride=2, padding=1),\n",
    "                            nn.LeakyReLU(negative_slope=0.1),\n",
    "\n",
    "                            nn.Conv2d(in_channels=1024, out_channels=1024, kernel_size=(3, 3), padding=1),\n",
    "                            nn.LeakyReLU(negative_slope=0.1),\n",
    "                            nn.Conv2d(in_channels=1024, out_channels=1024, kernel_size=(3, 3), padding=1),\n",
    "                            nn.LeakyReLU(negative_slope=0.1)\n",
    "                        )\n",
    "\n",
    "        self.classifier = nn.Sequential(\n",
    "                        nn.Flatten(),\n",
    "                        nn.Linear(in_features=1024 * 7 * 7, out_features=4096),\n",
    "                        nn.Dropout(),\n",
    "                        nn.LeakyReLU(negative_slope=0.1),\n",
    "                        nn.Linear(in_features=4096, out_features=num_classes)\n",
    "        )\n",
    "        \n",
    "    def forward(self, x):\n",
    "        x = self.features(x)\n",
    "        # print(x.shape)\n",
    "        x = self.classifier(x)\n",
    "        return x"
   ]
  },
  {
   "cell_type": "code",
   "execution_count": 30,
   "id": "76d74f66-7ec9-4a96-95e9-68e85fae87eb",
   "metadata": {},
   "outputs": [],
   "source": [
    "# initial model\n",
    "model = YOLOv1BackBone(num_classes=100)\n",
    "\n",
    "# device (gpu)\n",
    "device = torch.device('cuda' if torch.cuda.is_available() else 'cpu')\n",
    "model.to(device)\n",
    "\n",
    "# define loss and optimizer\n",
    "loss_fn = nn.CrossEntropyLoss()\n",
    "optimizer = torch.optim.Adam(params=model.parameters(), lr=0.0001)\n"
   ]
  },
  {
   "cell_type": "code",
   "execution_count": 31,
   "id": "6b5fe8a9-d5b7-4328-8690-70964ceb1a85",
   "metadata": {
    "scrolled": true
   },
   "outputs": [
    {
     "name": "stdout",
     "output_type": "stream",
     "text": [
      "Files already downloaded and verified\n"
     ]
    }
   ],
   "source": [
    "# define data load\n",
    "transform = transforms.Compose([\n",
    "    transforms.Resize((448, 448)),\n",
    "    transforms.ToTensor(),\n",
    "    transforms.Normalize(mean=[0.507, 0.487, 0.441], std=[0.267, 0.256, 0.276]),\n",
    "])\n",
    "\n",
    "train_dataset = datasets.CIFAR100(\n",
    "    root='./data',\n",
    "    train=True,\n",
    "    transform=transform,\n",
    "    download=True,   \n",
    ")\n",
    "\n",
    "train_loader = torch.utils.data.DataLoader(\n",
    "    train_dataset,\n",
    "    batch_size=64,\n",
    "    shuffle=True\n",
    ")"
   ]
  },
  {
   "cell_type": "code",
   "execution_count": 33,
   "id": "161fe2f6-2bfc-4562-b41f-41261bef58dd",
   "metadata": {},
   "outputs": [
    {
     "name": "stderr",
     "output_type": "stream",
     "text": [
      "  3%|███▉                                                                                                                 | 1/30 [05:29<2:39:22, 329.74s/it]"
     ]
    },
    {
     "name": "stdout",
     "output_type": "stream",
     "text": [
      "Epoch:1/30, Loss:3.8631150923726505\n"
     ]
    },
    {
     "name": "stderr",
     "output_type": "stream",
     "text": [
      "  7%|███████▊                                                                                                             | 2/30 [11:00<2:34:09, 330.35s/it]"
     ]
    },
    {
     "name": "stdout",
     "output_type": "stream",
     "text": [
      "Epoch:2/30, Loss:3.716121257723445\n"
     ]
    },
    {
     "name": "stderr",
     "output_type": "stream",
     "text": [
      " 10%|███████████▋                                                                                                         | 3/30 [16:31<2:28:48, 330.68s/it]"
     ]
    },
    {
     "name": "stdout",
     "output_type": "stream",
     "text": [
      "Epoch:3/30, Loss:3.5658776970470654\n"
     ]
    },
    {
     "name": "stderr",
     "output_type": "stream",
     "text": [
      " 13%|███████████████▌                                                                                                     | 4/30 [22:02<2:23:21, 330.83s/it]"
     ]
    },
    {
     "name": "stdout",
     "output_type": "stream",
     "text": [
      "Epoch:4/30, Loss:3.423477333829836\n"
     ]
    },
    {
     "name": "stderr",
     "output_type": "stream",
     "text": [
      " 17%|███████████████████▌                                                                                                 | 5/30 [27:34<2:17:58, 331.14s/it]"
     ]
    },
    {
     "name": "stdout",
     "output_type": "stream",
     "text": [
      "Epoch:5/30, Loss:3.2952771192926273\n"
     ]
    },
    {
     "name": "stderr",
     "output_type": "stream",
     "text": [
      " 20%|███████████████████████▍                                                                                             | 6/30 [33:05<2:12:30, 331.27s/it]"
     ]
    },
    {
     "name": "stdout",
     "output_type": "stream",
     "text": [
      "Epoch:6/30, Loss:3.2643279779292738\n"
     ]
    },
    {
     "name": "stderr",
     "output_type": "stream",
     "text": [
      " 23%|███████████████████████████▎                                                                                         | 7/30 [38:37<2:07:04, 331.49s/it]"
     ]
    },
    {
     "name": "stdout",
     "output_type": "stream",
     "text": [
      "Epoch:7/30, Loss:3.061522433824856\n"
     ]
    },
    {
     "name": "stderr",
     "output_type": "stream",
     "text": [
      " 27%|███████████████████████████████▏                                                                                     | 8/30 [44:09<2:01:30, 331.40s/it]"
     ]
    },
    {
     "name": "stdout",
     "output_type": "stream",
     "text": [
      "Epoch:8/30, Loss:2.9173968591348594\n"
     ]
    },
    {
     "name": "stderr",
     "output_type": "stream",
     "text": [
      " 30%|███████████████████████████████████                                                                                  | 9/30 [49:40<1:55:57, 331.33s/it]"
     ]
    },
    {
     "name": "stdout",
     "output_type": "stream",
     "text": [
      "Epoch:9/30, Loss:2.7731445232010863\n"
     ]
    },
    {
     "name": "stderr",
     "output_type": "stream",
     "text": [
      " 33%|██████████████████████████████████████▋                                                                             | 10/30 [55:11<1:50:25, 331.30s/it]"
     ]
    },
    {
     "name": "stdout",
     "output_type": "stream",
     "text": [
      "Epoch:10/30, Loss:2.642133318554715\n"
     ]
    },
    {
     "name": "stderr",
     "output_type": "stream",
     "text": [
      " 37%|█████████████████████████████████████████▊                                                                        | 11/30 [1:00:45<1:45:09, 332.10s/it]"
     ]
    },
    {
     "name": "stdout",
     "output_type": "stream",
     "text": [
      "Epoch:11/30, Loss:2.4594816934422155\n"
     ]
    },
    {
     "name": "stderr",
     "output_type": "stream",
     "text": [
      " 40%|█████████████████████████████████████████████▌                                                                    | 12/30 [1:06:16<1:39:32, 331.82s/it]"
     ]
    },
    {
     "name": "stdout",
     "output_type": "stream",
     "text": [
      "Epoch:12/30, Loss:2.278856529451697\n"
     ]
    },
    {
     "name": "stderr",
     "output_type": "stream",
     "text": [
      " 43%|█████████████████████████████████████████████████▍                                                                | 13/30 [1:11:48<1:34:00, 331.79s/it]"
     ]
    },
    {
     "name": "stdout",
     "output_type": "stream",
     "text": [
      "Epoch:13/30, Loss:2.073618384730785\n"
     ]
    },
    {
     "name": "stderr",
     "output_type": "stream",
     "text": [
      " 47%|█████████████████████████████████████████████████████▏                                                            | 14/30 [1:17:19<1:28:25, 331.61s/it]"
     ]
    },
    {
     "name": "stdout",
     "output_type": "stream",
     "text": [
      "Epoch:14/30, Loss:1.8470302707398945\n"
     ]
    },
    {
     "name": "stderr",
     "output_type": "stream",
     "text": [
      " 50%|█████████████████████████████████████████████████████████                                                         | 15/30 [1:22:51<1:22:55, 331.67s/it]"
     ]
    },
    {
     "name": "stdout",
     "output_type": "stream",
     "text": [
      "Epoch:15/30, Loss:1.5902953686769052\n"
     ]
    },
    {
     "name": "stderr",
     "output_type": "stream",
     "text": [
      " 53%|████████████████████████████████████████████████████████████▊                                                     | 16/30 [1:28:22<1:17:21, 331.53s/it]"
     ]
    },
    {
     "name": "stdout",
     "output_type": "stream",
     "text": [
      "Epoch:16/30, Loss:1.318342224258901\n"
     ]
    },
    {
     "name": "stderr",
     "output_type": "stream",
     "text": [
      " 57%|████████████████████████████████████████████████████████████████▌                                                 | 17/30 [1:33:53<1:11:48, 331.42s/it]"
     ]
    },
    {
     "name": "stdout",
     "output_type": "stream",
     "text": [
      "Epoch:17/30, Loss:1.032118062343439\n"
     ]
    },
    {
     "name": "stderr",
     "output_type": "stream",
     "text": [
      " 60%|████████████████████████████████████████████████████████████████████▍                                             | 18/30 [1:39:24<1:06:16, 331.37s/it]"
     ]
    },
    {
     "name": "stdout",
     "output_type": "stream",
     "text": [
      "Epoch:18/30, Loss:0.8173480369627019\n"
     ]
    },
    {
     "name": "stderr",
     "output_type": "stream",
     "text": [
      " 63%|████████████████████████████████████████████████████████████████████████▏                                         | 19/30 [1:44:56<1:00:44, 331.33s/it]"
     ]
    },
    {
     "name": "stdout",
     "output_type": "stream",
     "text": [
      "Epoch:19/30, Loss:0.6311470898597137\n"
     ]
    },
    {
     "name": "stderr",
     "output_type": "stream",
     "text": [
      " 67%|█████████████████████████████████████████████████████████████████████████████▎                                      | 20/30 [1:50:28<55:15, 331.54s/it]"
     ]
    },
    {
     "name": "stdout",
     "output_type": "stream",
     "text": [
      "Epoch:20/30, Loss:0.5145402897501845\n"
     ]
    },
    {
     "name": "stderr",
     "output_type": "stream",
     "text": [
      " 70%|█████████████████████████████████████████████████████████████████████████████████▏                                  | 21/30 [1:56:00<49:45, 331.68s/it]"
     ]
    },
    {
     "name": "stdout",
     "output_type": "stream",
     "text": [
      "Epoch:21/30, Loss:0.42764081478195115\n"
     ]
    },
    {
     "name": "stderr",
     "output_type": "stream",
     "text": [
      " 73%|█████████████████████████████████████████████████████████████████████████████████████                               | 22/30 [2:01:31<44:12, 331.59s/it]"
     ]
    },
    {
     "name": "stdout",
     "output_type": "stream",
     "text": [
      "Epoch:22/30, Loss:0.3699827700796182\n"
     ]
    },
    {
     "name": "stderr",
     "output_type": "stream",
     "text": [
      " 77%|████████████████████████████████████████████████████████████████████████████████████████▉                           | 23/30 [2:07:02<38:40, 331.47s/it]"
     ]
    },
    {
     "name": "stdout",
     "output_type": "stream",
     "text": [
      "Epoch:23/30, Loss:0.31713133552075956\n"
     ]
    },
    {
     "name": "stderr",
     "output_type": "stream",
     "text": [
      " 80%|████████████████████████████████████████████████████████████████████████████████████████████▊                       | 24/30 [2:12:34<33:08, 331.42s/it]"
     ]
    },
    {
     "name": "stdout",
     "output_type": "stream",
     "text": [
      "Epoch:24/30, Loss:0.2861929608513708\n"
     ]
    },
    {
     "name": "stderr",
     "output_type": "stream",
     "text": [
      " 83%|████████████████████████████████████████████████████████████████████████████████████████████████▋                   | 25/30 [2:18:05<27:36, 331.38s/it]"
     ]
    },
    {
     "name": "stdout",
     "output_type": "stream",
     "text": [
      "Epoch:25/30, Loss:0.2638852528017729\n"
     ]
    },
    {
     "name": "stderr",
     "output_type": "stream",
     "text": [
      " 87%|████████████████████████████████████████████████████████████████████████████████████████████████████▌               | 26/30 [2:23:36<22:05, 331.26s/it]"
     ]
    },
    {
     "name": "stdout",
     "output_type": "stream",
     "text": [
      "Epoch:26/30, Loss:0.23515031166622402\n"
     ]
    },
    {
     "name": "stderr",
     "output_type": "stream",
     "text": [
      " 90%|████████████████████████████████████████████████████████████████████████████████████████████████████████▍           | 27/30 [2:29:07<16:34, 331.35s/it]"
     ]
    },
    {
     "name": "stdout",
     "output_type": "stream",
     "text": [
      "Epoch:27/30, Loss:0.21209713578214653\n"
     ]
    },
    {
     "name": "stderr",
     "output_type": "stream",
     "text": [
      " 93%|████████████████████████████████████████████████████████████████████████████████████████████████████████████▎       | 28/30 [2:34:39<11:02, 331.40s/it]"
     ]
    },
    {
     "name": "stdout",
     "output_type": "stream",
     "text": [
      "Epoch:28/30, Loss:0.20538147534612958\n"
     ]
    },
    {
     "name": "stderr",
     "output_type": "stream",
     "text": [
      " 97%|████████████████████████████████████████████████████████████████████████████████████████████████████████████████▏   | 29/30 [2:40:12<05:31, 331.77s/it]"
     ]
    },
    {
     "name": "stdout",
     "output_type": "stream",
     "text": [
      "Epoch:29/30, Loss:0.18964939056169194\n"
     ]
    },
    {
     "name": "stderr",
     "output_type": "stream",
     "text": [
      "100%|████████████████████████████████████████████████████████████████████████████████████████████████████████████████████| 30/30 [2:45:45<00:00, 331.53s/it]"
     ]
    },
    {
     "name": "stdout",
     "output_type": "stream",
     "text": [
      "Epoch:30/30, Loss:0.17744083578229103\n"
     ]
    },
    {
     "name": "stderr",
     "output_type": "stream",
     "text": [
      "\n"
     ]
    }
   ],
   "source": [
    "from tqdm import tqdm\n",
    "epochs = 30\n",
    "\n",
    "for epoch in tqdm(range(epochs)):\n",
    "    model.train()\n",
    "    loss_train = 0.0\n",
    "\n",
    "    for inputs, labels in train_loader:\n",
    "        inputs = inputs.to(device)\n",
    "        labels = labels.to(device)\n",
    "\n",
    "        optimizer.zero_grad()\n",
    "    \n",
    "        outputs = model(inputs)\n",
    "        loss = loss_fn(outputs, labels)\n",
    "        loss.backward()\n",
    "        optimizer.step()\n",
    "\n",
    "        loss_train+=loss.item()\n",
    "\n",
    "    print(f'Epoch:{epoch+1}/{epochs}, Loss:{loss_train/len(train_loader)}')"
   ]
  },
  {
   "cell_type": "code",
   "execution_count": 34,
   "id": "698947eb-b5b4-4a9d-a728-4cf2a99b5317",
   "metadata": {},
   "outputs": [],
   "source": [
    "torch.save(model.state_dict(), 'yolov1_CIFAR100_pretrain_40epochs.pth')"
   ]
  },
  {
   "cell_type": "code",
   "execution_count": 4,
   "id": "edd347e6-f251-40cd-9016-ecb1842622a2",
   "metadata": {},
   "outputs": [
    {
     "name": "stderr",
     "output_type": "stream",
     "text": [
      "/tmp/ipykernel_3005686/1268867158.py:6: FutureWarning: You are using `torch.load` with `weights_only=False` (the current default value), which uses the default pickle module implicitly. It is possible to construct malicious pickle data which will execute arbitrary code during unpickling (See https://github.com/pytorch/pytorch/blob/main/SECURITY.md#untrusted-models for more details). In a future release, the default value for `weights_only` will be flipped to `True`. This limits the functions that could be executed during unpickling. Arbitrary objects will no longer be allowed to be loaded via this mode unless they are explicitly allowlisted by the user via `torch.serialization.add_safe_globals`. We recommend you start setting `weights_only=True` for any use case where you don't have full control of the loaded file. Please open an issue on GitHub for any issues related to this experimental feature.\n",
      "  pretrained_weights = torch.load('yolov1_CIFAR100_pretrain_40epochs.pth')\n"
     ]
    },
    {
     "data": {
      "text/plain": [
       "<All keys matched successfully>"
      ]
     },
     "execution_count": 4,
     "metadata": {},
     "output_type": "execute_result"
    }
   ],
   "source": [
    "S = 7\n",
    "C = 20\n",
    "B = 2\n",
    "depth = 5 * B + C\n",
    "model_yolov1 = YOLOv1BackBone(100)\n",
    "pretrained_weights = torch.load('yolov1_CIFAR100_pretrain_40epochs.pth')\n",
    "model_yolov1.load_state_dict(pretrained_weights)"
   ]
  }
 ],
 "metadata": {
  "kernelspec": {
   "display_name": "pytorch_gpu",
   "language": "python",
   "name": "pytorch"
  },
  "language_info": {
   "codemirror_mode": {
    "name": "ipython",
    "version": 3
   },
   "file_extension": ".py",
   "mimetype": "text/x-python",
   "name": "python",
   "nbconvert_exporter": "python",
   "pygments_lexer": "ipython3",
   "version": "3.12.7"
  }
 },
 "nbformat": 4,
 "nbformat_minor": 5
}
